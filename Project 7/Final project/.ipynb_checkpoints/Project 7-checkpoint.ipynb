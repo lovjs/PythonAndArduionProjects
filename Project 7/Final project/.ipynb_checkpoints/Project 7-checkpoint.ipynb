{
 "cells": [
  {
   "cell_type": "code",
   "execution_count": 13,
   "metadata": {},
   "outputs": [],
   "source": [
    "import pandas as pd\n",
    "%matplotlib inline\n",
    "from scipy.optimize import curve_fit\n",
    "import numpy as np\n",
    "import matplotlib.pyplot as pl\n",
    "from scipy.special import binom\n",
    "from scipy.stats import norm\n",
    "import os   \n",
    "from scipy.stats import poisson"
   ]
  },
  {
   "cell_type": "markdown",
   "metadata": {},
   "source": [
    "# 1 Abstract\n",
    "\n",
    "For this project we were introduced to servo motors and how they work. To ensure that we were using them correctly we used the oscilloscope to collect two different voltages. We found that we indeed did get the circuitry correct, I will provide a picture as evidence later on in the write up. Our other mission was to learn about different types of uncertainty and how to calculate them. For part 1 we used some simple partial derivatives with the sum of squares concept to calculate an uncertainty of .0007cm in the area. For part 2 we use the MC method along with curv fit to calculate an uncertainty of .012 in the slope. \n",
    "\n",
    "# 2 Description \n",
    "\n",
    "So at the beginning of the week we learned about how the servo motors operate based on pulses being sent and received. To better understand this concept we had a \"beginner circuit\" if you will; where we essentially just wired up a PWM and a ADC_SAR. After that we just had to write the code which proved to be a little more difficult than it sounded for no good reason as always. After we finally got the code right this beginner circuit and code made the motor turn when you turned the potentiometer. Then we pursed the next part of the project which was to alter the setup slightly to get it to work with a light sensor. So when it had a change of light the motor moved. For the hardware we just had to add a timer and for the code we just added what was provided in your write up. It took us a little while but we eventually got it working and I will provide the pictures in the analysis section to support that claim. \n",
    "\n",
    "# 3 Schematic\n",
    "\n",
    "The schematic was provided for us in great detail so I'm not really going to talk much about it, but I will provide pictures of our pins and our each schematic. \n",
    "![schematic pic](schem.png)\n",
    "\n",
    "![pin assignment](pins.png)\n",
    "\n",
    "# 4 Code\n",
    "\n",
    "The code was somewhat challenging for us this week. I suspect it was just due to the fact that we have never done this extensive of coding in PSoC. However theres actually not too much to the code after you get your head screwed on straight. We essentially just start the ADC and the PWM then initialize the pins and then just continuously wait for the reading from the sensor to change and when it does we make the motor move in a manner that corresponds with the light sensor. I will include a picture below as well as the actual code... properly indented this time. (;\n",
    "![code](code.png)\n",
    "\n",
    "\n",
    "\n",
    "    /* ========================================\n",
    "     *\n",
    "     * Copyright YOUR COMPANY, THE YEAR\n",
    "     * All Rights Reserved\n",
    "     * UNPUBLISHED, LICENSED SOFTWARE.\n",
    "     *\n",
    "     * CONFIDENTIAL AND PROPRIETARY INFORMATION\n",
    "     * WHICH IS THE PROPERTY OF your company.\n",
    "     *\n",
    "     * ========================================\n",
    "    */\n",
    "    #include \"project.h\"\n",
    "    #include \"simplePID.h\"\n",
    "\n",
    "    int main(void)\n",
    "    {\n",
    "        PID myPid; \n",
    "\n",
    "        CyGlobalIntEnable; /* Enable global interrupts. */\n",
    "\n",
    "        ADC_SAR_1_Start();\n",
    "        PWM_1_Start();\n",
    "        PID_Init(&myPid, 0.0, 400, 0.0, 0.0, 1, 400.0, 200.0, 100);\n",
    "\n",
    "        for(;;)\n",
    "        {\n",
    "            ADC_SAR_1_StartConvert();\n",
    "            ADC_SAR_1_IsEndConversion(ADC_SAR_1_WAIT_FOR_RESULT);\n",
    "            myPid.input = ADC_SAR_1_GetResult16();\n",
    "            PID_Compute(&myPid);\n",
    "            PWM_1_WriteCompare1(myPid.output);\n",
    "            CyDelay(100);\n",
    "        }\n",
    "    }\n",
    "\n",
    "# 5 Analysis \n",
    "\n",
    "There wasn't hardly any data that we collected other than the two voltage readings to show that our motor is functioning as suspected. We got two graphs one when the voltage is high and the motor is turned all the way in one direction and another where the voltage is low and the motor is in the other direction. So in the code it is when the value of the sensor is high and then when the value the sensor is giving is low. So as promised here are the pictures that I've been talking so much about. \n",
    "\n",
    "![graph](data.png)\n",
    "![graph2](data1.png)\n",
    "\n",
    "# 6 Statistics\n",
    "\n",
    "\n",
    "# Part 1\n",
    "\n",
    "So using partial derivatives and the sum of squares we have a found an uncertainty of .0007cm which is pretty good and makes sense since our uncertainty in the measurements was .005cm."
   ]
  },
  {
   "cell_type": "code",
   "execution_count": 18,
   "metadata": {},
   "outputs": [
    {
     "name": "stdout",
     "output_type": "stream",
     "text": [
      "1\n",
      "2.5e-07\n",
      "2.5e-07\n",
      "0.0007071067811865475\n",
      "Uncertainty: 0.0007071067811865475\n"
     ]
    }
   ],
   "source": [
    "l = 1\n",
    "w = 1\n",
    "area = l * w\n",
    "deltaL = (.05/100)**2\n",
    "deltaW = (.05 /100)**2\n",
    "deltaTotal = np.sqrt(deltaL + deltaW)\n",
    "uncertainty = area * deltaTotal\n",
    "print(area)\n",
    "print(deltaL)\n",
    "print(deltaW)\n",
    "print(deltaTotal)\n",
    "print(\"Uncertainty:\", uncertainty)\n"
   ]
  },
  {
   "cell_type": "markdown",
   "metadata": {},
   "source": [
    "\n",
    "# 6 Statistics \n",
    "\n",
    "# Part 2\n"
   ]
  },
  {
   "cell_type": "code",
   "execution_count": 19,
   "metadata": {},
   "outputs": [
    {
     "data": {
      "text/html": [
       "<div>\n",
       "<style scoped>\n",
       "    .dataframe tbody tr th:only-of-type {\n",
       "        vertical-align: middle;\n",
       "    }\n",
       "\n",
       "    .dataframe tbody tr th {\n",
       "        vertical-align: top;\n",
       "    }\n",
       "\n",
       "    .dataframe thead th {\n",
       "        text-align: right;\n",
       "    }\n",
       "</style>\n",
       "<table border=\"1\" class=\"dataframe\">\n",
       "  <thead>\n",
       "    <tr style=\"text-align: right;\">\n",
       "      <th></th>\n",
       "      <th>x</th>\n",
       "      <th>y</th>\n",
       "    </tr>\n",
       "  </thead>\n",
       "  <tbody>\n",
       "    <tr>\n",
       "      <th>0</th>\n",
       "      <td>1</td>\n",
       "      <td>3</td>\n",
       "    </tr>\n",
       "    <tr>\n",
       "      <th>1</th>\n",
       "      <td>2</td>\n",
       "      <td>5</td>\n",
       "    </tr>\n",
       "    <tr>\n",
       "      <th>2</th>\n",
       "      <td>3</td>\n",
       "      <td>7</td>\n",
       "    </tr>\n",
       "    <tr>\n",
       "      <th>3</th>\n",
       "      <td>4</td>\n",
       "      <td>9</td>\n",
       "    </tr>\n",
       "    <tr>\n",
       "      <th>4</th>\n",
       "      <td>5</td>\n",
       "      <td>11</td>\n",
       "    </tr>\n",
       "    <tr>\n",
       "      <th>5</th>\n",
       "      <td>6</td>\n",
       "      <td>13</td>\n",
       "    </tr>\n",
       "  </tbody>\n",
       "</table>\n",
       "</div>"
      ],
      "text/plain": [
       "   x   y\n",
       "0  1   3\n",
       "1  2   5\n",
       "2  3   7\n",
       "3  4   9\n",
       "4  5  11\n",
       "5  6  13"
      ]
     },
     "execution_count": 19,
     "metadata": {},
     "output_type": "execute_result"
    }
   ],
   "source": [
    "df = pd.DataFrame({'x':[1,2,3,4,5,6], 'y':[3,5,7,9,11,13]})\n",
    "df"
   ]
  },
  {
   "cell_type": "code",
   "execution_count": 20,
   "metadata": {},
   "outputs": [
    {
     "data": {
      "image/png": "[encoded data removed]",
      "text/plain": [
       "<matplotlib.figure.Figure at 0x113b6def0>"
      ]
     },
     "metadata": {},
     "output_type": "display_data"
    }
   ],
   "source": [
    "sigma_x = 0.1  \n",
    "sigma_y = .2     \n",
    "\n",
    "xvals = df.x.values  \n",
    "yvals = df.y.values  \n",
    "\n",
    "g = yvals**2/xvals**2 \n",
    "\n",
    "sigma_g = g*np.sqrt((sigma_x)**2 + (sigma_y)**2) \n",
    "\n",
    "def model(y, g0, a):\n",
    "    return g0 + a*y\n",
    "\n",
    "par, cov = curve_fit(model, yvals, g)\n",
    "\n",
    "g0 = par[0]\n",
    "a = par[1]\n",
    "\n",
    "gstar = model(yvals, g0, a) \n",
    "\n",
    "pl.title(\"Y vs. X\")\n",
    "pl.errorbar(yvals, g, yerr=sigma_g, xerr=sigma_y, fmt='b.')\n",
    "pl.plot(yvals, gstar)  \n",
    "pl.xlabel('X')\n",
    "pl.ylabel(\"Y\")\n",
    "\n",
    "\n",
    "\n",
    "N=3000   \n",
    "aList=[]  # keep track of monte-carlo fit parameters\n",
    "g0List=[]\n",
    "\n",
    "for i in range(N):\n",
    "    \"\"\"\n",
    "    Generate mc data with the same statistical properties as the real data.\n",
    "    Repeat the fit for each set, and record the parameters.\n",
    "    \"\"\"\n",
    "    mcG = gstar + sigma_x*np.random.normal(size=len(xvals))\n",
    "    mcY = yvals + sigma_y*np.random.normal(size=len(yvals))\n",
    "    par, cov = curve_fit(model, yvals, mcG)\n",
    "    g0List.append(par[0])\n",
    "    aList.append(par[1])\n",
    "\n",
    "\n",
    "g0arr=np.array(g0List)\n",
    "aArr=np.array(aList)\n",
    "\n",
    "g0Avg = g0arr.mean()\n",
    "aAvg = aArr.mean()\n",
    "sigg0 = g0arr.std(ddof=1)\n",
    "sigA = aArr.std(ddof=1)\n",
    "\n"
   ]
  },
  {
   "cell_type": "code",
   "execution_count": 21,
   "metadata": {},
   "outputs": [
    {
     "name": "stdout",
     "output_type": "stream",
     "text": [
      "a average: -0.37365888729593044\n",
      "a sigma: 0.011975022870628039\n"
     ]
    },
    {
     "data": {
      "image/png": "[encoded data removed]",
      "text/plain": [
       "<matplotlib.figure.Figure at 0x113aca6a0>"
      ]
     },
     "metadata": {},
     "output_type": "display_data"
    }
   ],
   "source": [
    "pl.title(\"Variation in a\")\n",
    "pl.hist(aArr)  # look at the variation in \"a\" values\n",
    "print(\"a average:\", aAvg)\n",
    "print(\"a sigma:\",sigA)"
   ]
  },
  {
   "cell_type": "markdown",
   "metadata": {},
   "source": [
    "We have found using the MC method and curv fit primarily that there is an uncertainty of .012 in the slope. This seems pretty reasonable considering the size of the numbers we used for x and y.\n",
    "\n",
    "# 7 Conclusion\n",
    "\n",
    "In summary this week we used the PSoC to create a circuit that controlled a servo motor; then we used the oscilloscope to check to see if it was working correctly. For the stats we used two different methods to calculate the uncertainty of an area and a slope. Which was .0007cm and .012 for the slope part. I would say based on our results that this lab was a success and we learned quite a bit about how servo motors work and the PSoC. "
   ]
  },
  {
   "cell_type": "code",
   "execution_count": null,
   "metadata": {},
   "outputs": [],
   "source": []
  }
 ],
 "metadata": {
  "kernelspec": {
   "display_name": "Python 3",
   "language": "python",
   "name": "python3"
  },
  "language_info": {
   "codemirror_mode": {
    "name": "ipython",
    "version": 3
   },
   "file_extension": ".py",
   "mimetype": "text/x-python",
   "name": "python",
   "nbconvert_exporter": "python",
   "pygments_lexer": "ipython3",
   "version": "3.6.4"
  }
 },
 "nbformat": 4,
 "nbformat_minor": 2
}
